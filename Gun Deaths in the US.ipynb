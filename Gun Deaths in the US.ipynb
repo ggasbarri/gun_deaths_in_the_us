{
 "cells": [
  {
   "cell_type": "markdown",
   "metadata": {},
   "source": [
    "# Gun Deaths in the US\n",
    "\n",
    "This file analyzes Gun Deaths in the US between 2012 and 2014, to gain insights on the data present in \"guns.csv\", a dataset provided by [FiveThirtyEight](https://www.fivethirtyeight.com/).\n",
    "\n",
    "The objective is to practice Data Science skills.\n",
    "\n",
    "The data is presented in the format:\n",
    "\n",
    "|   | year | month | intent | police | sex |   age   | race | hispanic | place | education |\n",
    "|:-:|:----:|:-----:|:------:|:------:|:----:|:---:|:---:|:--------:|:-----:|:------------:|\n",
    "| 1 | 2012 |   1   | Suicide | 0      |  M  | 34.0| White | 100     | Street | 3.0 |"
   ]
  },
  {
   "cell_type": "code",
   "execution_count": 1,
   "metadata": {
    "collapsed": false
   },
   "outputs": [],
   "source": [
    "import csv\n",
    "from IPython.display import HTML, display\n",
    " \n",
    "# Obtain data from CSV\n",
    "\n",
    "f = open(\"guns.csv\")\n",
    "content = csv.reader(f)\n",
    "data = list(content)"
   ]
  },
  {
   "cell_type": "code",
   "execution_count": 2,
   "metadata": {
    "collapsed": false
   },
   "outputs": [],
   "source": [
    "# Extract headers from data\n",
    "headers = data.pop(0)"
   ]
  },
  {
   "cell_type": "markdown",
   "metadata": {},
   "source": [
    "Let's find out how much Gun Deaths change by year."
   ]
  },
  {
   "cell_type": "code",
   "execution_count": 3,
   "metadata": {
    "collapsed": false
   },
   "outputs": [
    {
     "data": {
      "text/plain": [
       "{'2012': 33563, '2013': 33636, '2014': 33599}"
      ]
     },
     "execution_count": 3,
     "metadata": {},
     "output_type": "execute_result"
    }
   ],
   "source": [
    "# Extract all years\n",
    "years = [ row[1] for row in data ]\n",
    "\n",
    "year_counts = dict()\n",
    "\n",
    "# Count occurences for each year\n",
    "for year in years:\n",
    "    if year in year_counts:\n",
    "        year_counts[year] += 1\n",
    "    else:\n",
    "        year_counts[year] = 1\n",
    "        \n",
    "# Display occurences by year\n",
    "year_counts"
   ]
  },
  {
   "cell_type": "markdown",
   "metadata": {},
   "source": [
    "It seems like Gun Deaths do not change much depending on the year, so let's analyze other parameters to find better insights.\n",
    "\n",
    "Now let's take into consideration both years and months together."
   ]
  },
  {
   "cell_type": "code",
   "execution_count": 4,
   "metadata": {
    "collapsed": false
   },
   "outputs": [
    {
     "data": {
      "text/plain": [
       "{datetime.datetime(2012, 1, 1, 0, 0): 2758,\n",
       " datetime.datetime(2012, 2, 1, 0, 0): 2357,\n",
       " datetime.datetime(2012, 3, 1, 0, 0): 2743,\n",
       " datetime.datetime(2012, 4, 1, 0, 0): 2795,\n",
       " datetime.datetime(2012, 5, 1, 0, 0): 2999,\n",
       " datetime.datetime(2012, 6, 1, 0, 0): 2826,\n",
       " datetime.datetime(2012, 7, 1, 0, 0): 3026,\n",
       " datetime.datetime(2012, 8, 1, 0, 0): 2954,\n",
       " datetime.datetime(2012, 9, 1, 0, 0): 2852,\n",
       " datetime.datetime(2012, 10, 1, 0, 0): 2733,\n",
       " datetime.datetime(2012, 11, 1, 0, 0): 2729,\n",
       " datetime.datetime(2012, 12, 1, 0, 0): 2791,\n",
       " datetime.datetime(2013, 1, 1, 0, 0): 2864,\n",
       " datetime.datetime(2013, 2, 1, 0, 0): 2375,\n",
       " datetime.datetime(2013, 3, 1, 0, 0): 2862,\n",
       " datetime.datetime(2013, 4, 1, 0, 0): 2798,\n",
       " datetime.datetime(2013, 5, 1, 0, 0): 2806,\n",
       " datetime.datetime(2013, 6, 1, 0, 0): 2920,\n",
       " datetime.datetime(2013, 7, 1, 0, 0): 3079,\n",
       " datetime.datetime(2013, 8, 1, 0, 0): 2859,\n",
       " datetime.datetime(2013, 9, 1, 0, 0): 2742,\n",
       " datetime.datetime(2013, 10, 1, 0, 0): 2808,\n",
       " datetime.datetime(2013, 11, 1, 0, 0): 2758,\n",
       " datetime.datetime(2013, 12, 1, 0, 0): 2765,\n",
       " datetime.datetime(2014, 1, 1, 0, 0): 2651,\n",
       " datetime.datetime(2014, 2, 1, 0, 0): 2361,\n",
       " datetime.datetime(2014, 3, 1, 0, 0): 2684,\n",
       " datetime.datetime(2014, 4, 1, 0, 0): 2862,\n",
       " datetime.datetime(2014, 5, 1, 0, 0): 2864,\n",
       " datetime.datetime(2014, 6, 1, 0, 0): 2931,\n",
       " datetime.datetime(2014, 7, 1, 0, 0): 2884,\n",
       " datetime.datetime(2014, 8, 1, 0, 0): 2970,\n",
       " datetime.datetime(2014, 9, 1, 0, 0): 2914,\n",
       " datetime.datetime(2014, 10, 1, 0, 0): 2865,\n",
       " datetime.datetime(2014, 11, 1, 0, 0): 2756,\n",
       " datetime.datetime(2014, 12, 1, 0, 0): 2857}"
      ]
     },
     "execution_count": 4,
     "metadata": {},
     "output_type": "execute_result"
    }
   ],
   "source": [
    "import datetime\n",
    "\n",
    "# Extract dates\n",
    "dates = [ datetime.datetime(year=int(row[1]), month=int(row[2]), day=1) \\\n",
    "         for row in data ]\n",
    "\n",
    "date_counts = {}\n",
    "\n",
    "for date in dates:\n",
    "    if date in date_counts:\n",
    "        date_counts[date] += 1\n",
    "    else:\n",
    "        date_counts[date] = 1\n",
    "        \n",
    "# Display dates\n",
    "date_counts"
   ]
  },
  {
   "cell_type": "markdown",
   "metadata": {},
   "source": [
    "As seen above, the dates appear not to be related with Gun Death occurences.\n",
    "\n",
    "The __sex__ and __race__ columns may contain potentially interesting information on how gun deaths in the US vary by gender and race."
   ]
  },
  {
   "cell_type": "code",
   "execution_count": 5,
   "metadata": {
    "collapsed": false
   },
   "outputs": [
    {
     "name": "stdout",
     "output_type": "stream",
     "text": [
      "{'M': 86349, 'F': 14449}\n"
     ]
    },
    {
     "data": {
      "text/plain": [
       "{'Asian/Pacific Islander': 1326,\n",
       " 'Black': 23296,\n",
       " 'Hispanic': 9022,\n",
       " 'Native American/Native Alaskan': 917,\n",
       " 'White': 66237}"
      ]
     },
     "execution_count": 5,
     "metadata": {},
     "output_type": "execute_result"
    }
   ],
   "source": [
    "# Extract genders and races\n",
    "genders = [ row[5] for row in data ]\n",
    "races = [ row[7] for row in data ]\n",
    "\n",
    "sex_counts = {}\n",
    "race_counts = {}\n",
    "\n",
    "for gender in genders:\n",
    "    if gender in sex_counts:\n",
    "        sex_counts[gender] += 1\n",
    "    else:\n",
    "        sex_counts[gender] = 1\n",
    "\n",
    "for race in races:\n",
    "    if race in race_counts:\n",
    "        race_counts[race] += 1\n",
    "    else:\n",
    "        race_counts[race] = 1\n",
    "        \n",
    "# Display results\n",
    "print(sex_counts)\n",
    "race_counts"
   ]
  },
  {
   "cell_type": "code",
   "execution_count": 6,
   "metadata": {
    "collapsed": false
   },
   "outputs": [
    {
     "name": "stdout",
     "output_type": "stream",
     "text": [
      "{'M': 85.66539018631322, 'F': 14.33460981368678}\n"
     ]
    },
    {
     "data": {
      "text/plain": [
       "{'Asian/Pacific Islander': 1.315502291712137,\n",
       " 'Black': 23.111569674001466,\n",
       " 'Hispanic': 8.95057441615905,\n",
       " 'Native American/Native Alaskan': 0.9097402726244569,\n",
       " 'White': 65.71261334550289}"
      ]
     },
     "execution_count": 6,
     "metadata": {},
     "output_type": "execute_result"
    }
   ],
   "source": [
    "total = len(data)\n",
    "\n",
    "# Calculate percentages\n",
    "gender_dist = {}\n",
    "races_dist = {}\n",
    "\n",
    "for gender in sex_counts:\n",
    "    gender_dist[gender] = (sex_counts[gender]/float(total)) * 100\n",
    "    \n",
    "    \n",
    "for race in race_counts:\n",
    "    races_dist[race] = (race_counts[race]/float(total)) * 100\n",
    "    \n",
    "print(gender_dist)\n",
    "races_dist"
   ]
  },
  {
   "cell_type": "markdown",
   "metadata": {},
   "source": [
    "As seen above, it is clear that most deaths belong to Males, which take 85.66% of the total.\n",
    "\n",
    "Also, it is clear that the race with most deaths is White, with 65.71% total, followed by Black with 23.11%."
   ]
  },
  {
   "cell_type": "markdown",
   "metadata": {},
   "source": [
    "However, our analysis only gives us the total number of gun deaths by race in the US. Unless we know the proportion of each race in the US, we won't be able to meaningfully compare those numbers. \n",
    "\n",
    "What we really want to get is a rate of _gun deaths per 100 000 people_ of each race. In order to do this, we'll need to read in data about what percentage of the US population falls into each racial category. Luckily, we can import some census data to help us out, present in the 'census.csv' file."
   ]
  },
  {
   "cell_type": "code",
   "execution_count": 7,
   "metadata": {
    "collapsed": false
   },
   "outputs": [
    {
     "data": {
      "text/html": [
       "<table><tr><td>Id</td><td>Year</td><td>Id</td><td>Sex</td><td>Id</td><td>Hispanic Origin</td><td>Id</td><td>Id2</td><td>Geography</td><td>Total</td><td>Race Alone - White</td><td>Race Alone - Hispanic</td><td>Race Alone - Black or African American</td><td>Race Alone - American Indian and Alaska Native</td><td>Race Alone - Asian</td><td>Race Alone - Native Hawaiian and Other Pacific Islander</td><td>Two or More Races</td></tr><tr><td>cen42010</td><td>April 1, 2010 Census</td><td>totsex</td><td>Both Sexes</td><td>tothisp</td><td>Total</td><td>0100000US</td><td></td><td>United States</td><td>308745538</td><td>197318956</td><td>44618105</td><td>40250635</td><td>3739506</td><td>15159516</td><td>674625</td><td>6984195</td></tr></table>"
      ],
      "text/plain": [
       "<IPython.core.display.HTML object>"
      ]
     },
     "metadata": {},
     "output_type": "display_data"
    }
   ],
   "source": [
    "# Read the Census file\n",
    "census = list(csv.reader(open('census.csv')))\n",
    "\n",
    "display(HTML(\n",
    "    '<table><tr>{}</tr></table>'.format(\n",
    "        '</tr><tr>'.join(\n",
    "            '<td>{}</td>'.format('</td><td>'.join(str(_) for _ in row)) for row in census)\n",
    "        )\n",
    " ))"
   ]
  },
  {
   "cell_type": "markdown",
   "metadata": {},
   "source": [
    "We'll need to calculate these same rates for each racial category. The only stumbling block is that the racial categories are named slightly differently in census and in data. We'll need to manually construct a dictionary that allows us to map between them, and perform the division."
   ]
  },
  {
   "cell_type": "code",
   "execution_count": 9,
   "metadata": {
    "collapsed": false
   },
   "outputs": [
    {
     "data": {
      "text/plain": [
       "{'Asian/Pacific Islander': 8.374309664161762,\n",
       " 'Black': 57.8773477735196,\n",
       " 'Hispanic': 20.220491210910907,\n",
       " 'Native American/Native Alaskan': 24.521955573811088,\n",
       " 'White': 33.56849303419181}"
      ]
     },
     "execution_count": 9,
     "metadata": {},
     "output_type": "execute_result"
    }
   ],
   "source": [
    "# Create manual mapping for \n",
    "mapping = {\n",
    "    \"Asian/Pacific Islander\": int(census[1][14]) + int(census[1][15]),\n",
    "    \"Black\": int(census[1][12]),\n",
    "    \"Hispanic\": int(census[1][11]),\n",
    "    \"Native American/Native Alaskan\": int(census[1][13]),\n",
    "    \"White\": int(census[1][10])\n",
    "}\n",
    "\n",
    "race_per_hundredk = {}\n",
    "\n",
    "for race in race_counts:\n",
    "    race_per_hundredk[race] = (float(race_counts[race])/mapping[race]) * 100000\n",
    "    \n",
    "race_per_hundredk"
   ]
  },
  {
   "cell_type": "markdown",
   "metadata": {},
   "source": [
    "Now we can observe that \"Black\" has the most Gun Deaths per 100 000 individuals between 2012 and 2014.\n",
    "\n",
    "We can now restrict our Analysis to just the \"Homicide\" intent."
   ]
  },
  {
   "cell_type": "code",
   "execution_count": 11,
   "metadata": {
    "collapsed": false
   },
   "outputs": [
    {
     "data": {
      "text/plain": [
       "{'Asian/Pacific Islander': 3.530346230970155,\n",
       " 'Black': 48.471284987180944,\n",
       " 'Hispanic': 12.627161104219914,\n",
       " 'Native American/Native Alaskan': 8.717729026240365,\n",
       " 'White': 4.6356417981453335}"
      ]
     },
     "execution_count": 11,
     "metadata": {},
     "output_type": "execute_result"
    }
   ],
   "source": [
    "# Get intents\n",
    "intents = [ row[3] for row in data ]\n",
    "\n",
    "homicide_race_counts = {}\n",
    "\n",
    "for i, race in enumerate(races):\n",
    "    if intents[i] == \"Homicide\":\n",
    "        if race in homicide_race_counts:\n",
    "            homicide_race_counts[race] += 1\n",
    "        else:\n",
    "            homicide_race_counts[race] = 1\n",
    "            \n",
    "for race in race_counts:\n",
    "    homicide_race_counts[race] = (float(homicide_race_counts[race])/mapping[race]) * 100000\n",
    "    \n",
    "homicide_race_counts"
   ]
  },
  {
   "cell_type": "markdown",
   "metadata": {},
   "source": [
    "Finally, we observe that Native American/Native Alaskan were murdered by Gun more often than White people in the US for our years of study, and that \"Black\" stays at the first place with 48.47 murdered in 100 000 individuals."
   ]
  }
 ],
 "metadata": {
  "kernelspec": {
   "display_name": "Python 3",
   "language": "python",
   "name": "python3"
  },
  "language_info": {
   "codemirror_mode": {
    "name": "ipython",
    "version": 3
   },
   "file_extension": ".py",
   "mimetype": "text/x-python",
   "name": "python",
   "nbconvert_exporter": "python",
   "pygments_lexer": "ipython3",
   "version": "3.4.3"
  }
 },
 "nbformat": 4,
 "nbformat_minor": 0
}
